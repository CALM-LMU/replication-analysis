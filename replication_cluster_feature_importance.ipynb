{
 "cells": [
  {
   "cell_type": "code",
   "execution_count": null,
   "metadata": {},
   "outputs": [],
   "source": [
    "import numpy as np\n",
    "import pandas as pd\n",
    "import seaborn as sns\n",
    "from matplotlib import pyplot as plt\n",
    "from sklearn.preprocessing.label import LabelEncoder\n",
    "from sklearn.manifold import TSNE\n",
    "from sklearn.decomposition import PCA\n",
    "from sklearn.impute import SimpleImputer\n",
    "from sklearn.model_selection import cross_val_score, train_test_split\n",
    "from sklearn.ensemble import RandomForestClassifier\n",
    "from sklearn.inspection import permutation_importance\n",
    "from sklearn.linear_model import LogisticRegression\n",
    "from sklearn.discriminant_analysis import LinearDiscriminantAnalysis\n",
    "from sklearn.tree import DecisionTreeClassifier\n",
    "from sklearn.preprocessing import scale"
   ]
  },
  {
   "cell_type": "code",
   "execution_count": null,
   "metadata": {},
   "outputs": [],
   "source": [
    "df_agg = pd.read_csv('C:/Users/david/Desktop/replication-data/df_agg.csv')\n",
    "df_agg.head()\n",
    "\n",
    "\n",
    "# only use one label features for now\n",
    "df_agg = df_agg.iloc[:, [not c.startswith('pcna') for c in df_agg.columns]]\n",
    "df_agg = df_agg.iloc[:, [not 'edu_pcna' in c for c in df_agg.columns]]\n",
    "df_agg = df_agg.iloc[:, [not 'dist_pcna' in c for c in df_agg.columns]]\n",
    "\n",
    "# ignore label columns (not informative)\n",
    "df_agg = df_agg.iloc[:, [not 'label' in c for c in df_agg.columns]]\n",
    "\n",
    "# ignore bbox columns (also covered by extent)\n",
    "df_agg = df_agg.iloc[:, [not 'bbox' in c for c in df_agg.columns]]\n",
    "\n",
    "# ignore \"convex\" columns (also covered by solidiy)\n",
    "df_agg = df_agg.iloc[:, [not 'convex' in c for c in df_agg.columns]]\n",
    "\n",
    "# ignore \"filled area\" columns (is the same as area except for 1/2 samples)\n",
    "df_agg = df_agg.iloc[:, [not 'filled_area' in c for c in df_agg.columns]]\n",
    "\n",
    "# ignore \"major/minor axis\" columns\n",
    "#df_agg = df_agg.iloc[:, [not 'axis' in c for c in df_agg.columns]]\n",
    "\n",
    "# ignore \"equivalent diameter\" columns\n",
    "#df_agg = df_agg.iloc[:, [not 'diameter' in c for c in df_agg.columns]]\n",
    "\n",
    "# keep only normalized intensities, except for EDT\n",
    "df_agg = df_agg.iloc[:, [not 'mean' in c or not (c.replace('mean', 'mean_norm') in df_agg.columns) for c in df_agg.columns]]\n",
    "\n",
    "# ignore some nn columns\n",
    "# nn_to_ignore = ['1', '3']\n",
    "# for nn in nn_to_ignore:\n",
    "#     df_agg = df_agg.iloc[:, [not nn in c for c in df_agg.columns]]\n",
    "    \n",
    "df_agg.columns"
   ]
  },
  {
   "cell_type": "code",
   "execution_count": null,
   "metadata": {},
   "outputs": [],
   "source": [
    "xs = df_agg.iloc[:,2:].values\n",
    "ys = df_agg['stage'].values\n",
    "feature_names = np.array(df_agg.iloc[:,2:].columns)\n",
    "\n",
    "# make numeric labels\n",
    "ys_num = LabelEncoder().fit_transform(ys)\n",
    "\n",
    "# impute missing values\n",
    "xs_imputed = SimpleImputer().fit_transform(xs)\n",
    "xs_imputed = scale(xs_imputed)\n",
    "\n",
    "ts = TSNE(perplexity=20).fit_transform(xs_imputed)\n",
    "plt.figure(figsize=(7,7))\n",
    "sns.scatterplot(ts.T[0], ts.T[1], hue = ys)\n",
    "\n",
    "plt.xlabel('Component 1')\n",
    "plt.ylabel('Component 2')\n",
    "plt.title('t-SNE visualization')"
   ]
  },
  {
   "cell_type": "code",
   "execution_count": null,
   "metadata": {},
   "outputs": [],
   "source": [
    "#clf = RandomForestClassifier(n_estimators=10)\n",
    "clf = LogisticRegression()\n",
    "#clf = DecisionTreeClassifier()\n",
    "\n",
    "cv = cross_val_score(clf, xs_imputed, ys_num)\n",
    "print('Accuracy:', np.mean(cv), '\\tReplicates:', cv)\n",
    "\n",
    "def one_off_scorer(estimator, X, y):\n",
    "    return np.sum(np.abs(estimator.predict(X) - y) <= 1) / len(y)\n",
    "\n",
    "cv = cross_val_score(clf, xs_imputed, ys_num, scoring=one_off_scorer)\n",
    "print('Accuracy (One-off):', np.mean(cv), '\\tReplicates:', cv)"
   ]
  },
  {
   "cell_type": "markdown",
   "metadata": {},
   "source": [
    "following [https://scikit-learn.org/stable/auto_examples/inspection/plot_permutation_importance_multicollinear.html#sphx-glr-auto-examples-inspection-plot-permutation-importance-multicollinear-py]"
   ]
  },
  {
   "cell_type": "code",
   "execution_count": null,
   "metadata": {},
   "outputs": [],
   "source": [
    "#X_train, X_test, y_train, y_test = train_test_split(xs_imputed, ys_num)\n",
    "\n",
    "clf = LogisticRegression()\n",
    "clf.fit(xs_imputed, ys_num)\n",
    "\n",
    "\n",
    "result = permutation_importance(clf, xs_imputed, ys_num, n_repeats=25)\n",
    "perm_sorted_idx = result.importances_mean.argsort()\n",
    "\n",
    "plt.figure(figsize=(6,10))\n",
    "plt.title('Feature Importance')\n",
    "plt.boxplot(result.importances[perm_sorted_idx].T, vert=False,\n",
    "            labels=feature_names[perm_sorted_idx])\n",
    "plt.gcf().tight_layout()\n",
    "plt.show()\n"
   ]
  },
  {
   "cell_type": "code",
   "execution_count": null,
   "metadata": {},
   "outputs": [],
   "source": [
    "list(reversed(feature_names[perm_sorted_idx]))"
   ]
  },
  {
   "cell_type": "code",
   "execution_count": null,
   "metadata": {},
   "outputs": [],
   "source": [
    "plt.figure(figsize=(6,4))\n",
    "plt.title('Distance from border')\n",
    "sns.boxplot(data=df_agg.sort_values(by=['stage']), x='stage', y='edu_edt_mean_median')\n",
    "\n",
    "plt.figure(figsize=(6,4))\n",
    "plt.title('Solidity')\n",
    "sns.boxplot(data=df_agg.sort_values(by=['stage']), x='stage', y='edu_solidity_median')\n",
    "\n",
    "plt.figure(figsize=(6,4))\n",
    "plt.title('Normalized EdU intensity')\n",
    "sns.boxplot(data=df_agg.sort_values(by=['stage']), x='stage', y='edu_edu_mean_norm_median')\n",
    "\n",
    "plt.figure(figsize=(6,4))\n",
    "plt.title('Number of replication sites')\n",
    "sns.boxplot(data=df_agg.sort_values(by=['stage']), x='stage', y='edu_num_sites')\n",
    "\n",
    "plt.figure(figsize=(6,4))\n",
    "plt.title('Size of EdU sites')\n",
    "sns.boxplot(data=df_agg.sort_values(by=['stage']), x='stage', y='edu_area_median')"
   ]
  }
 ],
 "metadata": {
  "kernelspec": {
   "display_name": "Python 3",
   "language": "python",
   "name": "python3"
  },
  "language_info": {
   "codemirror_mode": {
    "name": "ipython",
    "version": 3
   },
   "file_extension": ".py",
   "mimetype": "text/x-python",
   "name": "python",
   "nbconvert_exporter": "python",
   "pygments_lexer": "ipython3",
   "version": "3.8.3"
  }
 },
 "nbformat": 4,
 "nbformat_minor": 4
}
