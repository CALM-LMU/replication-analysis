{
 "cells": [
  {
   "cell_type": "markdown",
   "metadata": {},
   "source": [
    "# Metadata Extraction\n",
    "\n",
    "Read metadata from ```.lif```-files using ```read_lif``` and save as JSON"
   ]
  },
  {
   "cell_type": "code",
   "execution_count": null,
   "metadata": {},
   "outputs": [],
   "source": [
    "import json\n",
    "import glob\n",
    "import pathlib as path\n",
    "from collections import defaultdict\n",
    "\n",
    "import read_lif"
   ]
  },
  {
   "cell_type": "code",
   "execution_count": null,
   "metadata": {},
   "outputs": [],
   "source": [
    "files = glob.glob('C:/Users/david/Desktop/replication-data/raw/fixed cells/*.lif')\n",
    "result = defaultdict(dict)\n",
    "\n",
    "for file in files:\n",
    "\n",
    "    filename = path.Path(file).name\n",
    "    reader = read_lif.Reader(file)\n",
    "    for header, series in zip (reader.getSeriesHeaders(), reader.getSeries()):\n",
    "        result[filename][header.getName()] = series.getMetadata()\n",
    "\n",
    "#print(json.dumps(result, indent=1))"
   ]
  },
  {
   "cell_type": "code",
   "execution_count": null,
   "metadata": {},
   "outputs": [],
   "source": [
    "outfile = 'C:/Users/david/Desktop/replication-data/metadata-fixed.json'\n",
    "with open(outfile, 'w') as fd:\n",
    "    json.dump(result, fd, indent=1)"
   ]
  }
 ],
 "metadata": {
  "kernelspec": {
   "display_name": "Python 3",
   "language": "python",
   "name": "python3"
  },
  "language_info": {
   "codemirror_mode": {
    "name": "ipython",
    "version": 3
   },
   "file_extension": ".py",
   "mimetype": "text/x-python",
   "name": "python",
   "nbconvert_exporter": "python",
   "pygments_lexer": "ipython3",
   "version": "3.7.3"
  }
 },
 "nbformat": 4,
 "nbformat_minor": 2
}
