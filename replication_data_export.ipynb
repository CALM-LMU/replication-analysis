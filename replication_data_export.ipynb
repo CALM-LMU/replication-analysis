{
 "cells": [
  {
   "cell_type": "code",
   "execution_count": 5,
   "metadata": {},
   "outputs": [],
   "source": [
    "import os\n",
    "import glob\n",
    "import pathlib2 as path\n",
    "from itertools import count\n",
    "import json\n",
    "import re\n",
    "\n",
    "import h5py as h5\n",
    "import numpy as np\n",
    "from skimage.external.tifffile import imread, imsave\n",
    "from skimage import filters\n",
    "from skimage import morphology\n",
    "from scipy import ndimage as ndi\n",
    "from matplotlib import pyplot as plt\n",
    "import read_lif"
   ]
  },
  {
   "cell_type": "markdown",
   "metadata": {},
   "source": [
    "# Export for Classification"
   ]
  },
  {
   "cell_type": "code",
   "execution_count": 6,
   "metadata": {},
   "outputs": [],
   "source": [
    "rootdir = 'C:/Users/david/Desktop/replication-data/raw/J1_pattern_PCNA594_EdU488_DAPI/'\n",
    "outdir = 'C:/Users/david/Desktop/replication-data/fixed_single_channel2/'\n",
    "\n",
    "if not os.path.exists(outdir):\n",
    "    os.makedirs(outdir)\n",
    "\n",
    "channel_names = ['pcna', 'edu', 'dapi']\n",
    "\n",
    "files_staged = glob.glob(rootdir + '*/*.tif')\n",
    "files_raw = glob.glob(rootdir + '*.lif')"
   ]
  },
  {
   "cell_type": "markdown",
   "metadata": {},
   "source": [
    "new data -> meta"
   ]
  },
  {
   "cell_type": "code",
   "execution_count": 13,
   "metadata": {},
   "outputs": [],
   "source": [
    "# Metadata -> simple naming\n",
    "metadata_file = 'C:/Users/david/Desktop/replication-data/metadata-fixed.json'\n",
    "\n",
    "with open(metadata_file, 'r') as fd:\n",
    "    meta = json.load(fd)\n",
    "\n",
    "p = re.compile('.*_(.*?)chase\\.lif.*?')\n",
    "counter = count()\n",
    "\n",
    "for c, file in zip(counter, files_staged):\n",
    "    stage_identification = file.split(os.sep)[-2]\n",
    "    chase_dur = p.match(file).groups()[0]\n",
    "    \n",
    "    name = path.Path(file).name\n",
    "    original_file = name.split(' - ')[0].split('_', 1)[1]\n",
    "    series = name.split(' - ')[1].split('-', 1)[0]\n",
    "    \n",
    "    out_file = os.path.join(outdir, '_'.join(['metadata', stage_identification, chase_dur, str(c)]) + '.json')\n",
    "    with open(out_file, 'w') as fd:\n",
    "        res = meta[original_file][series]\n",
    "        res['original_file'] = original_file\n",
    "        res['original_series'] = series\n",
    "        json.dump(res, fd, indent=1)"
   ]
  },
  {
   "cell_type": "markdown",
   "metadata": {},
   "source": [
    "new data -> singlechannel tif"
   ]
  },
  {
   "cell_type": "code",
   "execution_count": 9,
   "metadata": {},
   "outputs": [],
   "source": [
    "p = re.compile('.*_(.*?)chase\\.lif.*?')\n",
    "counter = count()\n",
    "\n",
    "for c, file in zip(counter, files_staged):\n",
    "    img = imread(file)\n",
    "    stage_identification = file.split(os.sep)[-2]\n",
    "    chase_dur = p.match(file).groups()[0]\n",
    "    \n",
    "    for i,channel in enumerate(channel_names):\n",
    "        imsave(os.path.join(outdir, '_'.join([channel, stage_identification, chase_dur, str(c)]) + '.tif'), np.expand_dims(img[:,i], 1), imagej=True)"
   ]
  },
  {
   "cell_type": "markdown",
   "metadata": {},
   "source": [
    "old data -> singlechannel tif"
   ]
  },
  {
   "cell_type": "code",
   "execution_count": null,
   "metadata": {},
   "outputs": [],
   "source": [
    "counter = count()\n",
    "\n",
    "for c, file in zip(counter, files_staged):\n",
    "    img = imread(file)\n",
    "    stage_identification = file.split(os.sep)[-2]\n",
    "    \n",
    "    for i,channel in enumerate(channel_names):\n",
    "        imsave(os.path.join(outdir, '_'.join([channel, stage_identification, str(c)]) + '.tif'), np.expand_dims(img[:,i], 1), imagej=True)\n",
    "\n",
    "for file in files_raw:\n",
    "    series = read_lif.Reader(file).getSeries()\n",
    "    for c, ser in zip(counter, series):\n",
    "        for i,channel in enumerate(channel_names):\n",
    "            img = ser.getFrame(channel=i)\n",
    "            imsave(os.path.join(outdir, '_'.join([channel, 'unstaged', str(c)]) + '.tif'), np.expand_dims(img, 1), imagej=True)"
   ]
  }
 ],
 "metadata": {
  "kernelspec": {
   "display_name": "Python 3",
   "language": "python",
   "name": "python3"
  },
  "language_info": {
   "codemirror_mode": {
    "name": "ipython",
    "version": 3
   },
   "file_extension": ".py",
   "mimetype": "text/x-python",
   "name": "python",
   "nbconvert_exporter": "python",
   "pygments_lexer": "ipython3",
   "version": "3.7.3"
  }
 },
 "nbformat": 4,
 "nbformat_minor": 4
}
